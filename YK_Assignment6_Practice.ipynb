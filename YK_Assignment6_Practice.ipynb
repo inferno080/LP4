{
 "cells": [
  {
   "cell_type": "markdown",
   "id": "95cd018f",
   "metadata": {},
   "source": [
    "# Object detection using Transfer Learning of CNN architectures"
   ]
  },
  {
   "cell_type": "markdown",
   "id": "6aef5dd4",
   "metadata": {},
   "source": [
    "# Imports"
   ]
  },
  {
   "cell_type": "code",
   "execution_count": 1,
   "id": "3933b6fc",
   "metadata": {},
   "outputs": [],
   "source": [
    "import warnings\n",
    "warnings.filterwarnings(\"ignore\", category=UserWarning)"
   ]
  },
  {
   "cell_type": "code",
   "execution_count": 2,
   "id": "2823c6de",
   "metadata": {},
   "outputs": [],
   "source": [
    "from torchvision.datasets import CIFAR10\n",
    "from torchvision.models import vgg16\n",
    "from torchvision.transforms import ToTensor\n",
    "from torch.utils.data import DataLoader\n",
    "from torch.optim import Adam\n",
    "from torch.nn import Module, Sequential, Linear, ReLU, CrossEntropyLoss"
   ]
  },
  {
   "cell_type": "markdown",
   "id": "97c3020d",
   "metadata": {},
   "source": [
    "# Load Data"
   ]
  },
  {
   "cell_type": "code",
   "execution_count": 3,
   "id": "fc7ff1e4",
   "metadata": {},
   "outputs": [],
   "source": [
    "dataset = CIFAR10(root='dataset/', train=True, transform=ToTensor(), download=True)"
   ]
  },
  {
   "cell_type": "code",
   "execution_count": 4,
   "id": "e3d1cd78",
   "metadata": {},
   "outputs": [],
   "source": [
    "train = []\n",
    "test = []\n",
    "\n",
    "for i in range(0,1000):\n",
    "    train.append(dataset[i])\n",
    "for i in range(1000, 1100):\n",
    "    test.append(dataset[i])\n",
    "    "
   ]
  },
  {
   "cell_type": "code",
   "execution_count": 5,
   "id": "0c69b1c5",
   "metadata": {},
   "outputs": [],
   "source": [
    "train_loader = DataLoader(dataset=train, shuffle=True)\n",
    "test_loader = DataLoader(dataset=test, shuffle=True)"
   ]
  },
  {
   "cell_type": "markdown",
   "id": "0b83f772",
   "metadata": {},
   "source": [
    "# Load Pretained Model"
   ]
  },
  {
   "cell_type": "code",
   "execution_count": 6,
   "id": "cfdb751d",
   "metadata": {},
   "outputs": [],
   "source": [
    "model = vgg16(pretrained = True)"
   ]
  },
  {
   "cell_type": "code",
   "execution_count": 7,
   "id": "ea60cc0e",
   "metadata": {},
   "outputs": [
    {
     "data": {
      "text/plain": [
       "VGG(\n",
       "  (features): Sequential(\n",
       "    (0): Conv2d(3, 64, kernel_size=(3, 3), stride=(1, 1), padding=(1, 1))\n",
       "    (1): ReLU(inplace=True)\n",
       "    (2): Conv2d(64, 64, kernel_size=(3, 3), stride=(1, 1), padding=(1, 1))\n",
       "    (3): ReLU(inplace=True)\n",
       "    (4): MaxPool2d(kernel_size=2, stride=2, padding=0, dilation=1, ceil_mode=False)\n",
       "    (5): Conv2d(64, 128, kernel_size=(3, 3), stride=(1, 1), padding=(1, 1))\n",
       "    (6): ReLU(inplace=True)\n",
       "    (7): Conv2d(128, 128, kernel_size=(3, 3), stride=(1, 1), padding=(1, 1))\n",
       "    (8): ReLU(inplace=True)\n",
       "    (9): MaxPool2d(kernel_size=2, stride=2, padding=0, dilation=1, ceil_mode=False)\n",
       "    (10): Conv2d(128, 256, kernel_size=(3, 3), stride=(1, 1), padding=(1, 1))\n",
       "    (11): ReLU(inplace=True)\n",
       "    (12): Conv2d(256, 256, kernel_size=(3, 3), stride=(1, 1), padding=(1, 1))\n",
       "    (13): ReLU(inplace=True)\n",
       "    (14): Conv2d(256, 256, kernel_size=(3, 3), stride=(1, 1), padding=(1, 1))\n",
       "    (15): ReLU(inplace=True)\n",
       "    (16): MaxPool2d(kernel_size=2, stride=2, padding=0, dilation=1, ceil_mode=False)\n",
       "    (17): Conv2d(256, 512, kernel_size=(3, 3), stride=(1, 1), padding=(1, 1))\n",
       "    (18): ReLU(inplace=True)\n",
       "    (19): Conv2d(512, 512, kernel_size=(3, 3), stride=(1, 1), padding=(1, 1))\n",
       "    (20): ReLU(inplace=True)\n",
       "    (21): Conv2d(512, 512, kernel_size=(3, 3), stride=(1, 1), padding=(1, 1))\n",
       "    (22): ReLU(inplace=True)\n",
       "    (23): MaxPool2d(kernel_size=2, stride=2, padding=0, dilation=1, ceil_mode=False)\n",
       "    (24): Conv2d(512, 512, kernel_size=(3, 3), stride=(1, 1), padding=(1, 1))\n",
       "    (25): ReLU(inplace=True)\n",
       "    (26): Conv2d(512, 512, kernel_size=(3, 3), stride=(1, 1), padding=(1, 1))\n",
       "    (27): ReLU(inplace=True)\n",
       "    (28): Conv2d(512, 512, kernel_size=(3, 3), stride=(1, 1), padding=(1, 1))\n",
       "    (29): ReLU(inplace=True)\n",
       "    (30): MaxPool2d(kernel_size=2, stride=2, padding=0, dilation=1, ceil_mode=False)\n",
       "  )\n",
       "  (avgpool): AdaptiveAvgPool2d(output_size=(7, 7))\n",
       "  (classifier): Sequential(\n",
       "    (0): Linear(in_features=25088, out_features=4096, bias=True)\n",
       "    (1): ReLU(inplace=True)\n",
       "    (2): Dropout(p=0.5, inplace=False)\n",
       "    (3): Linear(in_features=4096, out_features=4096, bias=True)\n",
       "    (4): ReLU(inplace=True)\n",
       "    (5): Dropout(p=0.5, inplace=False)\n",
       "    (6): Linear(in_features=4096, out_features=1000, bias=True)\n",
       "  )\n",
       ")"
      ]
     },
     "execution_count": 7,
     "metadata": {},
     "output_type": "execute_result"
    }
   ],
   "source": [
    "model"
   ]
  },
  {
   "cell_type": "markdown",
   "id": "03f2d89a",
   "metadata": {},
   "source": [
    "# Freeze Lower Layers"
   ]
  },
  {
   "cell_type": "code",
   "execution_count": 8,
   "id": "883130b3",
   "metadata": {},
   "outputs": [],
   "source": [
    "for p in model.parameters():\n",
    "    p.requires_grad=False"
   ]
  },
  {
   "cell_type": "code",
   "execution_count": 9,
   "id": "ae7873a1",
   "metadata": {},
   "outputs": [],
   "source": [
    "class Identity(Module):\n",
    "    def forward(self, x):\n",
    "        return x"
   ]
  },
  {
   "cell_type": "code",
   "execution_count": 10,
   "id": "1dbe8b0b",
   "metadata": {},
   "outputs": [],
   "source": [
    "model.avgpool=Identity()"
   ]
  },
  {
   "cell_type": "markdown",
   "id": "48f53e45",
   "metadata": {},
   "source": [
    "# Add custom classifier"
   ]
  },
  {
   "cell_type": "code",
   "execution_count": 11,
   "id": "36660bf5",
   "metadata": {},
   "outputs": [],
   "source": [
    "model.classifier = Sequential(Linear(512,128), ReLU(), Linear(128,10))"
   ]
  },
  {
   "cell_type": "markdown",
   "id": "aa496840",
   "metadata": {},
   "source": [
    "# Train Custom Classifier"
   ]
  },
  {
   "cell_type": "code",
   "execution_count": 12,
   "id": "c6965971",
   "metadata": {},
   "outputs": [],
   "source": [
    "e = 5\n",
    "criterion = CrossEntropyLoss()\n",
    "optimizer = Adam(model.parameters(), lr=1e-3)"
   ]
  },
  {
   "cell_type": "code",
   "execution_count": 13,
   "id": "8b3294bf",
   "metadata": {},
   "outputs": [
    {
     "name": "stdout",
     "output_type": "stream",
     "text": [
      "Cost at Epoch  1  is  1.7274823901942\n",
      "Cost at Epoch  2  is  1.2056715849377215\n",
      "Cost at Epoch  3  is  0.9032455919337372\n",
      "Cost at Epoch  4  is  0.6813310442821694\n",
      "Cost at Epoch  5  is  0.472728382048179\n"
     ]
    }
   ],
   "source": [
    "for epoch in range(1,e+1):\n",
    "    losses = []\n",
    "    for data,target in train_loader:\n",
    "        #forward\n",
    "        scores = model(data)\n",
    "        loss = criterion(scores,target)\n",
    "        losses.append(loss.item())\n",
    "        #backward\n",
    "        optimizer.zero_grad()\n",
    "        loss.backward()\n",
    "        #adam's step\n",
    "        optimizer.step()\n",
    "    print(\"Cost at Epoch \",epoch, \" is \", sum(losses)/len(losses))     "
   ]
  },
  {
   "cell_type": "code",
   "execution_count": 14,
   "id": "8e54a817",
   "metadata": {},
   "outputs": [],
   "source": [
    "def check_accuracy(loader):\n",
    "    correct = 0\n",
    "    total = 0\n",
    "    for data, target in loader:\n",
    "        scores = model(data)\n",
    "        _,pred = scores.max(1)\n",
    "        if(pred == target):\n",
    "            correct +=1\n",
    "        total +=1\n",
    "    print(\"Accuracy is : \", correct/total)"
   ]
  },
  {
   "cell_type": "code",
   "execution_count": 15,
   "id": "850d928b",
   "metadata": {},
   "outputs": [
    {
     "name": "stdout",
     "output_type": "stream",
     "text": [
      "Accuracy is :  0.914\n"
     ]
    }
   ],
   "source": [
    "check_accuracy(train_loader)"
   ]
  },
  {
   "cell_type": "code",
   "execution_count": 16,
   "id": "5d155805",
   "metadata": {},
   "outputs": [
    {
     "name": "stdout",
     "output_type": "stream",
     "text": [
      "Accuracy is :  0.45\n"
     ]
    }
   ],
   "source": [
    "check_accuracy(test_loader)"
   ]
  },
  {
   "cell_type": "code",
   "execution_count": 17,
   "id": "247451e7",
   "metadata": {},
   "outputs": [
    {
     "name": "stdout",
     "output_type": "stream",
     "text": [
      "Expected :  tensor([8])      Predicted :  tensor([8])\n",
      "Expected :  tensor([5])      Predicted :  tensor([3])\n",
      "Expected :  tensor([4])      Predicted :  tensor([7])\n",
      "Expected :  tensor([4])      Predicted :  tensor([4])\n",
      "Expected :  tensor([8])      Predicted :  tensor([2])\n",
      "Expected :  tensor([2])      Predicted :  tensor([4])\n",
      "Expected :  tensor([6])      Predicted :  tensor([6])\n",
      "Expected :  tensor([5])      Predicted :  tensor([5])\n",
      "Expected :  tensor([3])      Predicted :  tensor([1])\n",
      "Expected :  tensor([9])      Predicted :  tensor([9])\n",
      "Expected :  tensor([9])      Predicted :  tensor([7])\n",
      "Expected :  tensor([8])      Predicted :  tensor([4])\n",
      "Expected :  tensor([1])      Predicted :  tensor([1])\n",
      "Expected :  tensor([2])      Predicted :  tensor([5])\n",
      "Expected :  tensor([3])      Predicted :  tensor([4])\n",
      "Expected :  tensor([8])      Predicted :  tensor([8])\n",
      "Expected :  tensor([3])      Predicted :  tensor([3])\n",
      "Expected :  tensor([2])      Predicted :  tensor([0])\n",
      "Expected :  tensor([9])      Predicted :  tensor([9])\n",
      "Expected :  tensor([2])      Predicted :  tensor([0])\n",
      "Expected :  tensor([1])      Predicted :  tensor([8])\n",
      "Expected :  tensor([6])      Predicted :  tensor([4])\n",
      "Expected :  tensor([4])      Predicted :  tensor([5])\n",
      "Expected :  tensor([0])      Predicted :  tensor([8])\n",
      "Expected :  tensor([5])      Predicted :  tensor([3])\n",
      "Expected :  tensor([6])      Predicted :  tensor([6])\n",
      "Expected :  tensor([8])      Predicted :  tensor([8])\n",
      "Expected :  tensor([3])      Predicted :  tensor([3])\n",
      "Expected :  tensor([8])      Predicted :  tensor([8])\n",
      "Expected :  tensor([3])      Predicted :  tensor([3])\n",
      "Expected :  tensor([6])      Predicted :  tensor([4])\n",
      "Expected :  tensor([9])      Predicted :  tensor([1])\n",
      "Expected :  tensor([9])      Predicted :  tensor([8])\n",
      "Expected :  tensor([5])      Predicted :  tensor([2])\n",
      "Expected :  tensor([2])      Predicted :  tensor([5])\n",
      "Expected :  tensor([0])      Predicted :  tensor([0])\n",
      "Expected :  tensor([1])      Predicted :  tensor([1])\n",
      "Expected :  tensor([2])      Predicted :  tensor([2])\n",
      "Expected :  tensor([9])      Predicted :  tensor([9])\n",
      "Expected :  tensor([7])      Predicted :  tensor([4])\n",
      "Expected :  tensor([2])      Predicted :  tensor([8])\n",
      "Expected :  tensor([9])      Predicted :  tensor([9])\n",
      "Expected :  tensor([6])      Predicted :  tensor([6])\n",
      "Expected :  tensor([6])      Predicted :  tensor([6])\n",
      "Expected :  tensor([1])      Predicted :  tensor([0])\n",
      "Expected :  tensor([6])      Predicted :  tensor([6])\n",
      "Expected :  tensor([7])      Predicted :  tensor([7])\n",
      "Expected :  tensor([9])      Predicted :  tensor([7])\n",
      "Expected :  tensor([7])      Predicted :  tensor([3])\n",
      "Expected :  tensor([4])      Predicted :  tensor([4])\n",
      "Expected :  tensor([4])      Predicted :  tensor([2])\n",
      "Expected :  tensor([6])      Predicted :  tensor([6])\n",
      "Expected :  tensor([5])      Predicted :  tensor([5])\n",
      "Expected :  tensor([3])      Predicted :  tensor([7])\n",
      "Expected :  tensor([1])      Predicted :  tensor([9])\n",
      "Expected :  tensor([6])      Predicted :  tensor([6])\n",
      "Expected :  tensor([8])      Predicted :  tensor([8])\n",
      "Expected :  tensor([1])      Predicted :  tensor([1])\n",
      "Expected :  tensor([0])      Predicted :  tensor([6])\n",
      "Expected :  tensor([9])      Predicted :  tensor([8])\n",
      "Expected :  tensor([3])      Predicted :  tensor([5])\n",
      "Expected :  tensor([1])      Predicted :  tensor([2])\n",
      "Expected :  tensor([8])      Predicted :  tensor([8])\n",
      "Expected :  tensor([8])      Predicted :  tensor([4])\n",
      "Expected :  tensor([6])      Predicted :  tensor([2])\n",
      "Expected :  tensor([4])      Predicted :  tensor([7])\n",
      "Expected :  tensor([5])      Predicted :  tensor([5])\n",
      "Expected :  tensor([9])      Predicted :  tensor([7])\n",
      "Expected :  tensor([9])      Predicted :  tensor([8])\n",
      "Expected :  tensor([1])      Predicted :  tensor([1])\n",
      "Expected :  tensor([7])      Predicted :  tensor([6])\n",
      "Expected :  tensor([7])      Predicted :  tensor([9])\n",
      "Expected :  tensor([0])      Predicted :  tensor([4])\n",
      "Expected :  tensor([5])      Predicted :  tensor([5])\n",
      "Expected :  tensor([1])      Predicted :  tensor([1])\n",
      "Expected :  tensor([5])      Predicted :  tensor([4])\n",
      "Expected :  tensor([7])      Predicted :  tensor([7])\n",
      "Expected :  tensor([5])      Predicted :  tensor([3])\n",
      "Expected :  tensor([2])      Predicted :  tensor([4])\n",
      "Expected :  tensor([8])      Predicted :  tensor([8])\n",
      "Expected :  tensor([9])      Predicted :  tensor([9])\n",
      "Expected :  tensor([1])      Predicted :  tensor([1])\n",
      "Expected :  tensor([3])      Predicted :  tensor([5])\n",
      "Expected :  tensor([3])      Predicted :  tensor([6])\n",
      "Expected :  tensor([0])      Predicted :  tensor([7])\n",
      "Expected :  tensor([6])      Predicted :  tensor([6])\n",
      "Expected :  tensor([6])      Predicted :  tensor([6])\n",
      "Expected :  tensor([1])      Predicted :  tensor([1])\n",
      "Expected :  tensor([4])      Predicted :  tensor([2])\n",
      "Expected :  tensor([6])      Predicted :  tensor([6])\n",
      "Expected :  tensor([2])      Predicted :  tensor([4])\n",
      "Expected :  tensor([9])      Predicted :  tensor([9])\n",
      "Expected :  tensor([3])      Predicted :  tensor([3])\n",
      "Expected :  tensor([2])      Predicted :  tensor([4])\n",
      "Expected :  tensor([3])      Predicted :  tensor([9])\n",
      "Expected :  tensor([5])      Predicted :  tensor([2])\n",
      "Expected :  tensor([3])      Predicted :  tensor([5])\n",
      "Expected :  tensor([7])      Predicted :  tensor([2])\n",
      "Expected :  tensor([3])      Predicted :  tensor([6])\n",
      "Expected :  tensor([7])      Predicted :  tensor([7])\n"
     ]
    }
   ],
   "source": [
    "for data, target in test_loader:\n",
    "    scores= model(data)\n",
    "    _,pred = scores.max(1)\n",
    "    print(\"Expected : \",target, \"     Predicted : \", pred)"
   ]
  }
 ],
 "metadata": {
  "kernelspec": {
   "display_name": "Python 3 (ipykernel)",
   "language": "python",
   "name": "python3"
  },
  "language_info": {
   "codemirror_mode": {
    "name": "ipython",
    "version": 3
   },
   "file_extension": ".py",
   "mimetype": "text/x-python",
   "name": "python",
   "nbconvert_exporter": "python",
   "pygments_lexer": "ipython3",
   "version": "3.8.10"
  }
 },
 "nbformat": 4,
 "nbformat_minor": 5
}
