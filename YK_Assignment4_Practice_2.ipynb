{
 "cells": [
  {
   "cell_type": "markdown",
   "id": "f1d4b664",
   "metadata": {},
   "source": [
    "# Anomally Detection using Autoencoders (Credit Card Dataset)"
   ]
  },
  {
   "cell_type": "markdown",
   "id": "9f9e4801",
   "metadata": {},
   "source": [
    "# Imports"
   ]
  },
  {
   "cell_type": "code",
   "execution_count": 1,
   "id": "fdf9f308",
   "metadata": {},
   "outputs": [],
   "source": [
    "import warnings\n",
    "warnings.filterwarnings(\"ignore\",category=UserWarning)"
   ]
  },
  {
   "cell_type": "code",
   "execution_count": 3,
   "id": "9cb616b4",
   "metadata": {},
   "outputs": [],
   "source": [
    "import numpy as np\n",
    "import pandas as pd\n",
    "import matplotlib.pyplot as plt\n",
    "from sklearn.metrics import accuracy_score\n",
    "from sklearn.preprocessing import MinMaxScaler\n",
    "from sklearn.model_selection import train_test_split\n",
    "from tensorflow.keras import Model, Sequential\n",
    "from tensorflow.keras.losses import msle\n",
    "from tensorflow.keras.layers import Dense, Dropout"
   ]
  },
  {
   "cell_type": "markdown",
   "id": "be9b5944",
   "metadata": {},
   "source": [
    "# Load Dataset"
   ]
  },
  {
   "cell_type": "code",
   "execution_count": 4,
   "id": "7ab7846c",
   "metadata": {},
   "outputs": [
    {
     "data": {
      "text/html": [
       "<div>\n",
       "<style scoped>\n",
       "    .dataframe tbody tr th:only-of-type {\n",
       "        vertical-align: middle;\n",
       "    }\n",
       "\n",
       "    .dataframe tbody tr th {\n",
       "        vertical-align: top;\n",
       "    }\n",
       "\n",
       "    .dataframe thead th {\n",
       "        text-align: right;\n",
       "    }\n",
       "</style>\n",
       "<table border=\"1\" class=\"dataframe\">\n",
       "  <thead>\n",
       "    <tr style=\"text-align: right;\">\n",
       "      <th></th>\n",
       "      <th>0</th>\n",
       "      <th>1</th>\n",
       "      <th>2</th>\n",
       "      <th>3</th>\n",
       "      <th>4</th>\n",
       "      <th>5</th>\n",
       "      <th>6</th>\n",
       "      <th>7</th>\n",
       "      <th>8</th>\n",
       "      <th>9</th>\n",
       "      <th>...</th>\n",
       "      <th>21</th>\n",
       "      <th>22</th>\n",
       "      <th>23</th>\n",
       "      <th>24</th>\n",
       "      <th>25</th>\n",
       "      <th>26</th>\n",
       "      <th>27</th>\n",
       "      <th>28</th>\n",
       "      <th>29</th>\n",
       "      <th>30</th>\n",
       "    </tr>\n",
       "  </thead>\n",
       "  <tbody>\n",
       "    <tr>\n",
       "      <th>0</th>\n",
       "      <td>Time</td>\n",
       "      <td>V1</td>\n",
       "      <td>V2</td>\n",
       "      <td>V3</td>\n",
       "      <td>V4</td>\n",
       "      <td>V5</td>\n",
       "      <td>V6</td>\n",
       "      <td>V7</td>\n",
       "      <td>V8</td>\n",
       "      <td>V9</td>\n",
       "      <td>...</td>\n",
       "      <td>V21</td>\n",
       "      <td>V22</td>\n",
       "      <td>V23</td>\n",
       "      <td>V24</td>\n",
       "      <td>V25</td>\n",
       "      <td>V26</td>\n",
       "      <td>V27</td>\n",
       "      <td>V28</td>\n",
       "      <td>Amount</td>\n",
       "      <td>Class</td>\n",
       "    </tr>\n",
       "    <tr>\n",
       "      <th>1</th>\n",
       "      <td>0</td>\n",
       "      <td>-1.3598071336738</td>\n",
       "      <td>-0.0727811733098497</td>\n",
       "      <td>2.53634673796914</td>\n",
       "      <td>1.37815522427443</td>\n",
       "      <td>-0.338320769942518</td>\n",
       "      <td>0.462387777762292</td>\n",
       "      <td>0.239598554061257</td>\n",
       "      <td>0.0986979012610507</td>\n",
       "      <td>0.363786969611213</td>\n",
       "      <td>...</td>\n",
       "      <td>-0.018306777944153</td>\n",
       "      <td>0.277837575558899</td>\n",
       "      <td>-0.110473910188767</td>\n",
       "      <td>0.0669280749146731</td>\n",
       "      <td>0.128539358273528</td>\n",
       "      <td>-0.189114843888824</td>\n",
       "      <td>0.133558376740387</td>\n",
       "      <td>-0.0210530534538215</td>\n",
       "      <td>149.62</td>\n",
       "      <td>0</td>\n",
       "    </tr>\n",
       "    <tr>\n",
       "      <th>2</th>\n",
       "      <td>0</td>\n",
       "      <td>1.19185711131486</td>\n",
       "      <td>0.26615071205963</td>\n",
       "      <td>0.16648011335321</td>\n",
       "      <td>0.448154078460911</td>\n",
       "      <td>0.0600176492822243</td>\n",
       "      <td>-0.0823608088155687</td>\n",
       "      <td>-0.0788029833323113</td>\n",
       "      <td>0.0851016549148104</td>\n",
       "      <td>-0.255425128109186</td>\n",
       "      <td>...</td>\n",
       "      <td>-0.225775248033138</td>\n",
       "      <td>-0.638671952771851</td>\n",
       "      <td>0.101288021253234</td>\n",
       "      <td>-0.339846475529127</td>\n",
       "      <td>0.167170404418143</td>\n",
       "      <td>0.125894532368176</td>\n",
       "      <td>-0.00898309914322813</td>\n",
       "      <td>0.0147241691924927</td>\n",
       "      <td>2.69</td>\n",
       "      <td>0</td>\n",
       "    </tr>\n",
       "    <tr>\n",
       "      <th>3</th>\n",
       "      <td>1</td>\n",
       "      <td>-1.35835406159823</td>\n",
       "      <td>-1.34016307473609</td>\n",
       "      <td>1.77320934263119</td>\n",
       "      <td>0.379779593034328</td>\n",
       "      <td>-0.503198133318193</td>\n",
       "      <td>1.80049938079263</td>\n",
       "      <td>0.791460956450422</td>\n",
       "      <td>0.247675786588991</td>\n",
       "      <td>-1.51465432260583</td>\n",
       "      <td>...</td>\n",
       "      <td>0.247998153469754</td>\n",
       "      <td>0.771679401917229</td>\n",
       "      <td>0.909412262347719</td>\n",
       "      <td>-0.689280956490685</td>\n",
       "      <td>-0.327641833735251</td>\n",
       "      <td>-0.139096571514147</td>\n",
       "      <td>-0.0553527940384261</td>\n",
       "      <td>-0.0597518405929204</td>\n",
       "      <td>378.66</td>\n",
       "      <td>0</td>\n",
       "    </tr>\n",
       "    <tr>\n",
       "      <th>4</th>\n",
       "      <td>1</td>\n",
       "      <td>-0.966271711572087</td>\n",
       "      <td>-0.185226008082898</td>\n",
       "      <td>1.79299333957872</td>\n",
       "      <td>-0.863291275036453</td>\n",
       "      <td>-0.0103088796030823</td>\n",
       "      <td>1.24720316752486</td>\n",
       "      <td>0.23760893977178</td>\n",
       "      <td>0.377435874652262</td>\n",
       "      <td>-1.38702406270197</td>\n",
       "      <td>...</td>\n",
       "      <td>-0.108300452035545</td>\n",
       "      <td>0.00527359678253453</td>\n",
       "      <td>-0.190320518742841</td>\n",
       "      <td>-1.17557533186321</td>\n",
       "      <td>0.647376034602038</td>\n",
       "      <td>-0.221928844458407</td>\n",
       "      <td>0.0627228487293033</td>\n",
       "      <td>0.0614576285006353</td>\n",
       "      <td>123.5</td>\n",
       "      <td>0</td>\n",
       "    </tr>\n",
       "  </tbody>\n",
       "</table>\n",
       "<p>5 rows × 31 columns</p>\n",
       "</div>"
      ],
      "text/plain": [
       "     0                   1                    2                 3   \\\n",
       "0  Time                  V1                   V2                V3   \n",
       "1     0    -1.3598071336738  -0.0727811733098497  2.53634673796914   \n",
       "2     0    1.19185711131486     0.26615071205963  0.16648011335321   \n",
       "3     1   -1.35835406159823    -1.34016307473609  1.77320934263119   \n",
       "4     1  -0.966271711572087   -0.185226008082898  1.79299333957872   \n",
       "\n",
       "                   4                    5                    6   \\\n",
       "0                  V4                   V5                   V6   \n",
       "1    1.37815522427443   -0.338320769942518    0.462387777762292   \n",
       "2   0.448154078460911   0.0600176492822243  -0.0823608088155687   \n",
       "3   0.379779593034328   -0.503198133318193     1.80049938079263   \n",
       "4  -0.863291275036453  -0.0103088796030823     1.24720316752486   \n",
       "\n",
       "                    7                   8                   9   ...  \\\n",
       "0                   V7                  V8                  V9  ...   \n",
       "1    0.239598554061257  0.0986979012610507   0.363786969611213  ...   \n",
       "2  -0.0788029833323113  0.0851016549148104  -0.255425128109186  ...   \n",
       "3    0.791460956450422   0.247675786588991   -1.51465432260583  ...   \n",
       "4     0.23760893977178   0.377435874652262   -1.38702406270197  ...   \n",
       "\n",
       "                   21                   22                  23  \\\n",
       "0                 V21                  V22                 V23   \n",
       "1  -0.018306777944153    0.277837575558899  -0.110473910188767   \n",
       "2  -0.225775248033138   -0.638671952771851   0.101288021253234   \n",
       "3   0.247998153469754    0.771679401917229   0.909412262347719   \n",
       "4  -0.108300452035545  0.00527359678253453  -0.190320518742841   \n",
       "\n",
       "                   24                  25                  26  \\\n",
       "0                 V24                 V25                 V26   \n",
       "1  0.0669280749146731   0.128539358273528  -0.189114843888824   \n",
       "2  -0.339846475529127   0.167170404418143   0.125894532368176   \n",
       "3  -0.689280956490685  -0.327641833735251  -0.139096571514147   \n",
       "4   -1.17557533186321   0.647376034602038  -0.221928844458407   \n",
       "\n",
       "                     27                   28      29     30  \n",
       "0                   V27                  V28  Amount  Class  \n",
       "1     0.133558376740387  -0.0210530534538215  149.62      0  \n",
       "2  -0.00898309914322813   0.0147241691924927    2.69      0  \n",
       "3   -0.0553527940384261  -0.0597518405929204  378.66      0  \n",
       "4    0.0627228487293033   0.0614576285006353   123.5      0  \n",
       "\n",
       "[5 rows x 31 columns]"
      ]
     },
     "execution_count": 4,
     "metadata": {},
     "output_type": "execute_result"
    }
   ],
   "source": [
    "df = pd.read_csv(\"creditcard.csv\", header=None, low_memory=False)\n",
    "df.head()"
   ]
  },
  {
   "cell_type": "code",
   "execution_count": 5,
   "id": "76f38e6e",
   "metadata": {},
   "outputs": [
    {
     "data": {
      "text/plain": [
       "(284808, 31)"
      ]
     },
     "execution_count": 5,
     "metadata": {},
     "output_type": "execute_result"
    }
   ],
   "source": [
    "df.shape"
   ]
  },
  {
   "cell_type": "code",
   "execution_count": 6,
   "id": "479520e2",
   "metadata": {},
   "outputs": [],
   "source": [
    "df = df.drop(0, axis=0)\n",
    "df = df.drop(0, axis=1)"
   ]
  },
  {
   "cell_type": "code",
   "execution_count": 7,
   "id": "67f684e9",
   "metadata": {},
   "outputs": [
    {
     "data": {
      "text/plain": [
       "array(['0', '1'], dtype=object)"
      ]
     },
     "execution_count": 7,
     "metadata": {},
     "output_type": "execute_result"
    }
   ],
   "source": [
    "df[30].unique()"
   ]
  },
  {
   "cell_type": "code",
   "execution_count": 8,
   "id": "5027545c",
   "metadata": {},
   "outputs": [],
   "source": [
    "features = df.drop(30, axis=1)\n",
    "target = df[30]"
   ]
  },
  {
   "cell_type": "code",
   "execution_count": 9,
   "id": "8177ce56",
   "metadata": {},
   "outputs": [],
   "source": [
    "X_train, X_test, Y_train, Y_test = train_test_split(features, target, test_size=0.2)"
   ]
  },
  {
   "cell_type": "code",
   "execution_count": 10,
   "id": "c9461bdb",
   "metadata": {},
   "outputs": [],
   "source": [
    "scaler = MinMaxScaler()\n",
    "X_train = scaler.fit_transform(X_train)\n",
    "X_test = scaler.transform(X_test)"
   ]
  },
  {
   "cell_type": "markdown",
   "id": "a5cbf8c4",
   "metadata": {},
   "source": [
    "# Create AutoEncoder"
   ]
  },
  {
   "cell_type": "code",
   "execution_count": 11,
   "id": "d80b96c9",
   "metadata": {},
   "outputs": [],
   "source": [
    "class AutoEncoder(Model):\n",
    "    def __init__(self,outputs):\n",
    "        super().__init__()\n",
    "        self.encoder = Sequential([\n",
    "            Dense(64, activation=\"relu\"),\n",
    "            Dropout(0.1),\n",
    "            Dense(32, activation=\"relu\"),\n",
    "            Dropout(0.1),\n",
    "            Dense(16, activation=\"relu\")\n",
    "        ])\n",
    "        self.decoder = Sequential([\n",
    "            Dense(16, activation=\"relu\"),\n",
    "            Dropout(0.1),\n",
    "            Dense(32, activation=\"relu\"),\n",
    "            Dropout(0.1),\n",
    "            Dense(64, activation=\"relu\"),\n",
    "            Dropout(0.1),\n",
    "            Dense(outputs, activation=\"sigmoid\")\n",
    "        ])\n",
    "    def call(self, inputs):\n",
    "        code = self.encoder(inputs)\n",
    "        return self.decoder(code)"
   ]
  },
  {
   "cell_type": "code",
   "execution_count": 13,
   "id": "4ef96fad",
   "metadata": {},
   "outputs": [],
   "source": [
    "model = AutoEncoder(X_train.shape[1])\n",
    "model.compile(optimizer=\"adam\", loss=\"msle\", metrics=[\"mse\"])"
   ]
  },
  {
   "cell_type": "code",
   "execution_count": 14,
   "id": "cd94e555",
   "metadata": {},
   "outputs": [
    {
     "name": "stdout",
     "output_type": "stream",
     "text": [
      "Epoch 1/11\n",
      "7121/7121 [==============================] - 16s 2ms/step - loss: 7.7111e-04 - mse: 0.0017 - val_loss: 4.1200e-04 - val_mse: 9.6728e-04\n",
      "Epoch 2/11\n",
      "7121/7121 [==============================] - 15s 2ms/step - loss: 4.7457e-04 - mse: 0.0011 - val_loss: 3.3677e-04 - val_mse: 8.2003e-04\n",
      "Epoch 3/11\n",
      "7121/7121 [==============================] - 15s 2ms/step - loss: 4.2559e-04 - mse: 9.9799e-04 - val_loss: 3.2389e-04 - val_mse: 7.9259e-04\n",
      "Epoch 4/11\n",
      "7121/7121 [==============================] - 13s 2ms/step - loss: 4.0648e-04 - mse: 9.5847e-04 - val_loss: 3.1206e-04 - val_mse: 7.6029e-04\n",
      "Epoch 5/11\n",
      "7121/7121 [==============================] - 15s 2ms/step - loss: 3.9218e-04 - mse: 9.2669e-04 - val_loss: 3.0534e-04 - val_mse: 7.4289e-04\n",
      "Epoch 6/11\n",
      "7121/7121 [==============================] - 16s 2ms/step - loss: 3.8157e-04 - mse: 9.0252e-04 - val_loss: 3.0170e-04 - val_mse: 7.2942e-04\n",
      "Epoch 7/11\n",
      "7121/7121 [==============================] - 15s 2ms/step - loss: 3.7202e-04 - mse: 8.7996e-04 - val_loss: 2.9519e-04 - val_mse: 7.1522e-04\n",
      "Epoch 8/11\n",
      "7121/7121 [==============================] - 16s 2ms/step - loss: 3.6417e-04 - mse: 8.6160e-04 - val_loss: 2.9872e-04 - val_mse: 7.1942e-04\n",
      "Epoch 9/11\n",
      "7121/7121 [==============================] - 15s 2ms/step - loss: 3.5952e-04 - mse: 8.5031e-04 - val_loss: 3.0099e-04 - val_mse: 7.1682e-04\n",
      "Epoch 10/11\n",
      "7121/7121 [==============================] - 15s 2ms/step - loss: 3.5414e-04 - mse: 8.3724e-04 - val_loss: 2.8139e-04 - val_mse: 6.7904e-04\n",
      "Epoch 11/11\n",
      "7121/7121 [==============================] - 15s 2ms/step - loss: 3.5023e-04 - mse: 8.2760e-04 - val_loss: 2.8132e-04 - val_mse: 6.7888e-04\n"
     ]
    }
   ],
   "source": [
    "e =11\n",
    "H = model.fit(X_train, X_train, validation_data=(X_test, X_test), epochs=e)"
   ]
  },
  {
   "cell_type": "markdown",
   "id": "92924846",
   "metadata": {},
   "source": [
    "# Plot MSE Loss"
   ]
  },
  {
   "cell_type": "code",
   "execution_count": 15,
   "id": "27f73965",
   "metadata": {},
   "outputs": [
    {
     "data": {
      "text/plain": [
       "<matplotlib.legend.Legend at 0x7f8a5719b280>"
      ]
     },
     "execution_count": 15,
     "metadata": {},
     "output_type": "execute_result"
    },
    {
     "data": {
      "image/png": "[encoded data removed]",
      "text/plain": [
       "<Figure size 640x480 with 1 Axes>"
      ]
     },
     "metadata": {},
     "output_type": "display_data"
    }
   ],
   "source": [
    "plt.style.use(\"ggplot\")\n",
    "plt.plot(np.arange(0,e), H.history[\"loss\"], label=\"loss\")\n",
    "plt.plot(np.arange(0,e), H.history[\"val_loss\"], label=\"val_loss\")\n",
    "plt.xlabel(\"Epochs\")\n",
    "plt.ylabel(\"Loss\")\n",
    "plt.title(\"MSE Loss\")\n",
    "plt.legend()"
   ]
  },
  {
   "cell_type": "markdown",
   "id": "6931f6e4",
   "metadata": {},
   "source": [
    "# Find Threshold Value"
   ]
  },
  {
   "cell_type": "code",
   "execution_count": 16,
   "id": "bbd8f9c6",
   "metadata": {},
   "outputs": [
    {
     "name": "stdout",
     "output_type": "stream",
     "text": [
      "7121/7121 [==============================] - 6s 886us/step\n"
     ]
    },
    {
     "data": {
      "text/plain": [
       "0.0007369113876366535"
      ]
     },
     "execution_count": 16,
     "metadata": {},
     "output_type": "execute_result"
    }
   ],
   "source": [
    "reconstructions = model.predict(X_train)\n",
    "reconstruction_errors = msle(reconstructions, X_train)\n",
    "threshold = np.mean(reconstruction_errors.numpy()) + np.std(reconstruction_errors.numpy())\n",
    "threshold"
   ]
  },
  {
   "cell_type": "code",
   "execution_count": 17,
   "id": "3258e535",
   "metadata": {},
   "outputs": [
    {
     "name": "stdout",
     "output_type": "stream",
     "text": [
      "1781/1781 [==============================] - 2s 883us/step\n"
     ]
    }
   ],
   "source": [
    "pred = model.predict(X_test)\n",
    "pred_errors = msle(pred, X_test)"
   ]
  },
  {
   "cell_type": "code",
   "execution_count": 20,
   "id": "d4d14b90",
   "metadata": {},
   "outputs": [],
   "source": [
    "out = []\n",
    "for error in  pred_errors:\n",
    "    if error > threshold:\n",
    "        out.append('1')\n",
    "    else:\n",
    "        out.append('0')"
   ]
  },
  {
   "cell_type": "code",
   "execution_count": 21,
   "id": "03325972",
   "metadata": {},
   "outputs": [
    {
     "data": {
      "text/plain": [
       "0.9635195393420175"
      ]
     },
     "execution_count": 21,
     "metadata": {},
     "output_type": "execute_result"
    }
   ],
   "source": [
    "accuracy_score(out, Y_test)"
   ]
  }
 ],
 "metadata": {
  "kernelspec": {
   "display_name": "Python 3 (ipykernel)",
   "language": "python",
   "name": "python3"
  },
  "language_info": {
   "codemirror_mode": {
    "name": "ipython",
    "version": 3
   },
   "file_extension": ".py",
   "mimetype": "text/x-python",
   "name": "python",
   "nbconvert_exporter": "python",
   "pygments_lexer": "ipython3",
   "version": "3.8.10"
  }
 },
 "nbformat": 4,
 "nbformat_minor": 5
}
