{
 "cells": [
  {
   "cell_type": "markdown",
   "id": "544381a4",
   "metadata": {},
   "source": [
    "# Imports"
   ]
  },
  {
   "cell_type": "code",
   "execution_count": 1,
   "id": "5c94c50c",
   "metadata": {},
   "outputs": [],
   "source": [
    "import warnings\n",
    "warnings.filterwarnings(\"ignore\", category=UserWarning)"
   ]
  },
  {
   "cell_type": "code",
   "execution_count": 3,
   "id": "c87c076f",
   "metadata": {},
   "outputs": [],
   "source": [
    "import matplotlib.pyplot as plt\n",
    "from numpy import arange\n",
    "from sklearn.preprocessing import LabelBinarizer\n",
    "from sklearn.metrics import classification_report\n",
    "from tensorflow.keras.datasets import mnist\n",
    "from tensorflow.keras.models import Sequential\n",
    "from tensorflow.keras.layers import Dense\n",
    "from tensorflow.keras.optimizers import SGD"
   ]
  },
  {
   "cell_type": "markdown",
   "id": "3869f4a6",
   "metadata": {},
   "source": [
    "# Load Data"
   ]
  },
  {
   "cell_type": "code",
   "execution_count": 4,
   "id": "2e6ce73a",
   "metadata": {},
   "outputs": [],
   "source": [
    "((X_train, Y_train),(X_test, Y_test)) = mnist.load_data()"
   ]
  },
  {
   "cell_type": "code",
   "execution_count": 5,
   "id": "53379473",
   "metadata": {},
   "outputs": [
    {
     "data": {
      "text/plain": [
       "(60000, 28, 28)"
      ]
     },
     "execution_count": 5,
     "metadata": {},
     "output_type": "execute_result"
    }
   ],
   "source": [
    "X_train.shape"
   ]
  },
  {
   "cell_type": "code",
   "execution_count": 6,
   "id": "94c9280e",
   "metadata": {},
   "outputs": [
    {
     "data": {
      "text/plain": [
       "(10000, 28, 28)"
      ]
     },
     "execution_count": 6,
     "metadata": {},
     "output_type": "execute_result"
    }
   ],
   "source": [
    "X_test.shape"
   ]
  },
  {
   "cell_type": "markdown",
   "id": "c8c534b7",
   "metadata": {},
   "source": [
    "# Preprocessing"
   ]
  },
  {
   "cell_type": "code",
   "execution_count": 7,
   "id": "0fb67c1f",
   "metadata": {},
   "outputs": [],
   "source": [
    "X_train = X_train.reshape(X_train.shape[0], 28*28)\n",
    "X_test = X_test.reshape(X_test.shape[0], 28*28)"
   ]
  },
  {
   "cell_type": "code",
   "execution_count": 8,
   "id": "43744bd5",
   "metadata": {},
   "outputs": [
    {
     "data": {
      "text/plain": [
       "(60000, 784)"
      ]
     },
     "execution_count": 8,
     "metadata": {},
     "output_type": "execute_result"
    }
   ],
   "source": [
    "X_train.shape"
   ]
  },
  {
   "cell_type": "code",
   "execution_count": 9,
   "id": "9888588b",
   "metadata": {},
   "outputs": [
    {
     "data": {
      "text/plain": [
       "(10000, 784)"
      ]
     },
     "execution_count": 9,
     "metadata": {},
     "output_type": "execute_result"
    }
   ],
   "source": [
    "X_test.shape"
   ]
  },
  {
   "cell_type": "code",
   "execution_count": 10,
   "id": "aa96ef38",
   "metadata": {},
   "outputs": [],
   "source": [
    "lb = LabelBinarizer()\n",
    "Y_train = lb.fit_transform(Y_train)\n",
    "Y_test = lb.fit_transform(Y_test)"
   ]
  },
  {
   "cell_type": "markdown",
   "id": "058f8926",
   "metadata": {},
   "source": [
    "# Build and Train Model"
   ]
  },
  {
   "cell_type": "code",
   "execution_count": 12,
   "id": "76de14b7",
   "metadata": {},
   "outputs": [],
   "source": [
    "model = Sequential()\n",
    "model.add(Dense(128, input_shape=(784,), activation=\"sigmoid\"))\n",
    "model.add(Dense(64, activation=\"sigmoid\"))\n",
    "model.add(Dense(10, activation=\"softmax\"))\n",
    "model.compile(optimizer=SGD(), metrics=[\"accuracy\"], loss=\"categorical_crossentropy\")"
   ]
  },
  {
   "cell_type": "code",
   "execution_count": 13,
   "id": "a6d0c724",
   "metadata": {},
   "outputs": [
    {
     "name": "stdout",
     "output_type": "stream",
     "text": [
      "Model: \"sequential_1\"\n",
      "_________________________________________________________________\n",
      " Layer (type)                Output Shape              Param #   \n",
      "=================================================================\n",
      " dense_3 (Dense)             (None, 128)               100480    \n",
      "                                                                 \n",
      " dense_4 (Dense)             (None, 64)                8256      \n",
      "                                                                 \n",
      " dense_5 (Dense)             (None, 10)                650       \n",
      "                                                                 \n",
      "=================================================================\n",
      "Total params: 109,386\n",
      "Trainable params: 109,386\n",
      "Non-trainable params: 0\n",
      "_________________________________________________________________\n"
     ]
    }
   ],
   "source": [
    "model.summary()"
   ]
  },
  {
   "cell_type": "code",
   "execution_count": 14,
   "id": "59f268d9",
   "metadata": {},
   "outputs": [
    {
     "name": "stdout",
     "output_type": "stream",
     "text": [
      "Epoch 1/11\n",
      "469/469 [==============================] - 2s 3ms/step - loss: 1.9627 - accuracy: 0.5257 - val_loss: 1.6498 - val_accuracy: 0.7239\n",
      "Epoch 2/11\n",
      "469/469 [==============================] - 1s 3ms/step - loss: 1.4053 - accuracy: 0.7659 - val_loss: 1.1731 - val_accuracy: 0.8093\n",
      "Epoch 3/11\n",
      "469/469 [==============================] - 1s 3ms/step - loss: 1.0183 - accuracy: 0.8283 - val_loss: 0.8756 - val_accuracy: 0.8501\n",
      "Epoch 4/11\n",
      "469/469 [==============================] - 1s 3ms/step - loss: 0.7820 - accuracy: 0.8605 - val_loss: 0.6912 - val_accuracy: 0.8775\n",
      "Epoch 5/11\n",
      "469/469 [==============================] - 1s 2ms/step - loss: 0.6348 - accuracy: 0.8777 - val_loss: 0.5740 - val_accuracy: 0.8909\n",
      "Epoch 6/11\n",
      "469/469 [==============================] - 1s 3ms/step - loss: 0.5386 - accuracy: 0.8906 - val_loss: 0.4980 - val_accuracy: 0.8990\n",
      "Epoch 7/11\n",
      "469/469 [==============================] - 1s 3ms/step - loss: 0.4728 - accuracy: 0.8978 - val_loss: 0.4402 - val_accuracy: 0.9052\n",
      "Epoch 8/11\n",
      "469/469 [==============================] - 1s 3ms/step - loss: 0.4261 - accuracy: 0.9048 - val_loss: 0.4038 - val_accuracy: 0.9081\n",
      "Epoch 9/11\n",
      "469/469 [==============================] - 1s 3ms/step - loss: 0.3901 - accuracy: 0.9089 - val_loss: 0.3756 - val_accuracy: 0.9119\n",
      "Epoch 10/11\n",
      "469/469 [==============================] - 1s 3ms/step - loss: 0.3632 - accuracy: 0.9129 - val_loss: 0.3526 - val_accuracy: 0.9159\n",
      "Epoch 11/11\n",
      "469/469 [==============================] - 1s 3ms/step - loss: 0.3415 - accuracy: 0.9171 - val_loss: 0.3334 - val_accuracy: 0.9185\n"
     ]
    }
   ],
   "source": [
    "e = 11\n",
    "H = model.fit(X_train, Y_train, validation_data=(X_test, Y_test), epochs=e, batch_size=128)"
   ]
  },
  {
   "cell_type": "code",
   "execution_count": 15,
   "id": "4cd89124",
   "metadata": {},
   "outputs": [
    {
     "name": "stdout",
     "output_type": "stream",
     "text": [
      "79/79 [==============================] - 0s 1ms/step\n"
     ]
    }
   ],
   "source": [
    "Y_pred = model.predict(X_test, batch_size=128)"
   ]
  },
  {
   "cell_type": "code",
   "execution_count": 16,
   "id": "b8555d4d",
   "metadata": {},
   "outputs": [
    {
     "name": "stdout",
     "output_type": "stream",
     "text": [
      "              precision    recall  f1-score   support\n",
      "\n",
      "           0       0.94      0.97      0.95       980\n",
      "           1       0.97      0.97      0.97      1135\n",
      "           2       0.93      0.90      0.91      1032\n",
      "           3       0.90      0.91      0.90      1010\n",
      "           4       0.91      0.94      0.93       982\n",
      "           5       0.87      0.86      0.87       892\n",
      "           6       0.94      0.93      0.94       958\n",
      "           7       0.93      0.92      0.93      1028\n",
      "           8       0.88      0.88      0.88       974\n",
      "           9       0.91      0.89      0.90      1009\n",
      "\n",
      "    accuracy                           0.92     10000\n",
      "   macro avg       0.92      0.92      0.92     10000\n",
      "weighted avg       0.92      0.92      0.92     10000\n",
      "\n"
     ]
    }
   ],
   "source": [
    "print(\n",
    "    classification_report(Y_test.argmax(axis=1), Y_pred.argmax(axis=1))\n",
    ")"
   ]
  },
  {
   "cell_type": "markdown",
   "id": "47c6e479",
   "metadata": {},
   "source": [
    "# Plot Training Loss and Accuracy"
   ]
  },
  {
   "cell_type": "code",
   "execution_count": 18,
   "id": "8c3d0b84",
   "metadata": {},
   "outputs": [
    {
     "data": {
      "text/plain": [
       "<matplotlib.legend.Legend at 0x7fee85ac6490>"
      ]
     },
     "execution_count": 18,
     "metadata": {},
     "output_type": "execute_result"
    },
    {
     "data": {
      "image/png": "[encoded data removed]",
      "text/plain": [
       "<Figure size 640x480 with 1 Axes>"
      ]
     },
     "metadata": {},
     "output_type": "display_data"
    }
   ],
   "source": [
    "plt.style.use(\"ggplot\")\n",
    "plt.plot(arange(0,e), H.history[\"loss\"], label=\"train_loss\")\n",
    "plt.plot(arange(0,e), H.history[\"accuracy\"], label=\"train_accuracy\")\n",
    "plt.plot(arange(0,e), H.history[\"val_loss\"], label=\"val_loss\")\n",
    "plt.plot(arange(0,e), H.history[\"val_accuracy\"], label=\"val_accuracy\")\n",
    "plt.xlabel(\"Epochs\")\n",
    "plt.ylabel(\"Accuracy / Loss\")\n",
    "plt.title(\"Training Loss and Accuracy\")\n",
    "plt.legend()"
   ]
  }
 ],
 "metadata": {
  "kernelspec": {
   "display_name": "Python 3 (ipykernel)",
   "language": "python",
   "name": "python3"
  },
  "language_info": {
   "codemirror_mode": {
    "name": "ipython",
    "version": 3
   },
   "file_extension": ".py",
   "mimetype": "text/x-python",
   "name": "python",
   "nbconvert_exporter": "python",
   "pygments_lexer": "ipython3",
   "version": "3.8.10"
  }
 },
 "nbformat": 4,
 "nbformat_minor": 5
}
