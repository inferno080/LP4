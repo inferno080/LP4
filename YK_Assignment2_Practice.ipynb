{
 "cells": [
  {
   "cell_type": "markdown",
   "id": "a57dedea",
   "metadata": {},
   "source": [
    "# Implement a feedforward neural network on mnist dataset"
   ]
  },
  {
   "cell_type": "markdown",
   "id": "6712f89e",
   "metadata": {},
   "source": [
    "# Imports"
   ]
  },
  {
   "cell_type": "code",
   "execution_count": 1,
   "id": "13356386",
   "metadata": {},
   "outputs": [],
   "source": [
    "import warnings\n",
    "warnings.filterwarnings(\"ignore\", category=UserWarning)"
   ]
  },
  {
   "cell_type": "code",
   "execution_count": 3,
   "id": "72e34d49",
   "metadata": {},
   "outputs": [],
   "source": [
    "import matplotlib.pyplot as plt\n",
    "from numpy import arange\n",
    "from sklearn.preprocessing import LabelBinarizer\n",
    "from sklearn.metrics import classification_report\n",
    "from tensorflow.keras.datasets import mnist\n",
    "from tensorflow.keras.models import Sequential\n",
    "from tensorflow.keras.layers import Dense\n",
    "from tensorflow.keras.optimizers import SGD"
   ]
  },
  {
   "cell_type": "markdown",
   "id": "5c4f645a",
   "metadata": {},
   "source": [
    "# Load Dataset"
   ]
  },
  {
   "cell_type": "code",
   "execution_count": 4,
   "id": "d2a1eb5b",
   "metadata": {},
   "outputs": [],
   "source": [
    "((X_train, Y_train),(X_test, Y_test)) = mnist.load_data()"
   ]
  },
  {
   "cell_type": "code",
   "execution_count": 5,
   "id": "89f87a2e",
   "metadata": {},
   "outputs": [
    {
     "data": {
      "text/plain": [
       "(60000, 28, 28)"
      ]
     },
     "execution_count": 5,
     "metadata": {},
     "output_type": "execute_result"
    }
   ],
   "source": [
    "X_train.shape"
   ]
  },
  {
   "cell_type": "code",
   "execution_count": 6,
   "id": "9161e975",
   "metadata": {},
   "outputs": [
    {
     "data": {
      "text/plain": [
       "(10000, 28, 28)"
      ]
     },
     "execution_count": 6,
     "metadata": {},
     "output_type": "execute_result"
    }
   ],
   "source": [
    "X_test.shape"
   ]
  },
  {
   "cell_type": "markdown",
   "id": "bde8ef9d",
   "metadata": {},
   "source": [
    "# Preprocessing"
   ]
  },
  {
   "cell_type": "code",
   "execution_count": 7,
   "id": "bcf97f0f",
   "metadata": {},
   "outputs": [],
   "source": [
    "X_train = X_train.reshape(X_train.shape[0], 28*28)\n",
    "X_test = X_test.reshape(X_test.shape[0], 28*28)"
   ]
  },
  {
   "cell_type": "code",
   "execution_count": 8,
   "id": "3cf39d88",
   "metadata": {},
   "outputs": [
    {
     "data": {
      "text/plain": [
       "(60000, 784)"
      ]
     },
     "execution_count": 8,
     "metadata": {},
     "output_type": "execute_result"
    }
   ],
   "source": [
    "X_train.shape"
   ]
  },
  {
   "cell_type": "code",
   "execution_count": 9,
   "id": "27a61349",
   "metadata": {},
   "outputs": [
    {
     "data": {
      "text/plain": [
       "(10000, 784)"
      ]
     },
     "execution_count": 9,
     "metadata": {},
     "output_type": "execute_result"
    }
   ],
   "source": [
    "X_test.shape"
   ]
  },
  {
   "cell_type": "code",
   "execution_count": 10,
   "id": "ca418c1e",
   "metadata": {},
   "outputs": [],
   "source": [
    "lb = LabelBinarizer()\n",
    "Y_train = lb.fit_transform(Y_train)\n",
    "Y_test = lb.transform(Y_test)"
   ]
  },
  {
   "cell_type": "markdown",
   "id": "60bd4d17",
   "metadata": {},
   "source": [
    "# Build and Train Model"
   ]
  },
  {
   "cell_type": "code",
   "execution_count": 12,
   "id": "17cb2147",
   "metadata": {},
   "outputs": [],
   "source": [
    "model = Sequential()\n",
    "model.add(Dense(512, input_shape=(784,), activation=\"sigmoid\"))\n",
    "model.add(Dense(128, activation=\"sigmoid\"))\n",
    "model.add(Dense(10, activation=\"softmax\"))\n",
    "model.compile(loss=\"categorical_crossentropy\", optimizer=SGD(), metrics=[\"accuracy\"])"
   ]
  },
  {
   "cell_type": "code",
   "execution_count": 13,
   "id": "ad7a6566",
   "metadata": {},
   "outputs": [],
   "source": [
    "e = 11"
   ]
  },
  {
   "cell_type": "code",
   "execution_count": 14,
   "id": "d1636f46",
   "metadata": {},
   "outputs": [
    {
     "name": "stdout",
     "output_type": "stream",
     "text": [
      "Epoch 1/11\n",
      "469/469 [==============================] - 2s 5ms/step - loss: 1.5381 - accuracy: 0.6964 - val_loss: 1.0367 - val_accuracy: 0.8385\n",
      "Epoch 2/11\n",
      "469/469 [==============================] - 3s 7ms/step - loss: 0.8302 - accuracy: 0.8535 - val_loss: 0.6581 - val_accuracy: 0.8786\n",
      "Epoch 3/11\n",
      "469/469 [==============================] - 3s 7ms/step - loss: 0.5814 - accuracy: 0.8826 - val_loss: 0.5021 - val_accuracy: 0.8942\n",
      "Epoch 4/11\n",
      "469/469 [==============================] - 2s 4ms/step - loss: 0.4648 - accuracy: 0.8965 - val_loss: 0.4203 - val_accuracy: 0.9046\n",
      "Epoch 5/11\n",
      "469/469 [==============================] - 3s 7ms/step - loss: 0.3977 - accuracy: 0.9063 - val_loss: 0.3699 - val_accuracy: 0.9124\n",
      "Epoch 6/11\n",
      "469/469 [==============================] - 2s 4ms/step - loss: 0.3531 - accuracy: 0.9133 - val_loss: 0.3366 - val_accuracy: 0.9162\n",
      "Epoch 7/11\n",
      "469/469 [==============================] - 3s 7ms/step - loss: 0.3214 - accuracy: 0.9189 - val_loss: 0.3116 - val_accuracy: 0.9207\n",
      "Epoch 8/11\n",
      "469/469 [==============================] - 3s 6ms/step - loss: 0.2972 - accuracy: 0.9238 - val_loss: 0.2925 - val_accuracy: 0.9240\n",
      "Epoch 9/11\n",
      "469/469 [==============================] - 2s 4ms/step - loss: 0.2774 - accuracy: 0.9278 - val_loss: 0.2776 - val_accuracy: 0.9271\n",
      "Epoch 10/11\n",
      "469/469 [==============================] - 2s 4ms/step - loss: 0.2617 - accuracy: 0.9315 - val_loss: 0.2650 - val_accuracy: 0.9297\n",
      "Epoch 11/11\n",
      "469/469 [==============================] - 3s 7ms/step - loss: 0.2476 - accuracy: 0.9355 - val_loss: 0.2545 - val_accuracy: 0.9302\n"
     ]
    }
   ],
   "source": [
    "H = model.fit(X_train, Y_train, validation_data=(X_test, Y_test), epochs=e, batch_size=128)"
   ]
  },
  {
   "cell_type": "code",
   "execution_count": 15,
   "id": "7e79c885",
   "metadata": {},
   "outputs": [
    {
     "name": "stdout",
     "output_type": "stream",
     "text": [
      "79/79 [==============================] - 0s 3ms/step\n"
     ]
    }
   ],
   "source": [
    "Y_pred = model.predict(X_test, batch_size=128)"
   ]
  },
  {
   "cell_type": "code",
   "execution_count": 16,
   "id": "82c94cd4",
   "metadata": {},
   "outputs": [
    {
     "name": "stdout",
     "output_type": "stream",
     "text": [
      "              precision    recall  f1-score   support\n",
      "\n",
      "           0       0.94      0.98      0.96       980\n",
      "           1       0.98      0.98      0.98      1135\n",
      "           2       0.93      0.90      0.91      1032\n",
      "           3       0.91      0.92      0.91      1010\n",
      "           4       0.93      0.93      0.93       982\n",
      "           5       0.92      0.88      0.90       892\n",
      "           6       0.93      0.95      0.94       958\n",
      "           7       0.93      0.93      0.93      1028\n",
      "           8       0.90      0.90      0.90       974\n",
      "           9       0.92      0.92      0.92      1009\n",
      "\n",
      "    accuracy                           0.93     10000\n",
      "   macro avg       0.93      0.93      0.93     10000\n",
      "weighted avg       0.93      0.93      0.93     10000\n",
      "\n"
     ]
    }
   ],
   "source": [
    "print(classification_report(Y_test.argmax(axis=1), Y_pred.argmax(axis=1)))"
   ]
  },
  {
   "cell_type": "markdown",
   "id": "3b38824e",
   "metadata": {},
   "source": [
    "# Plot Training Loss and Accuracy"
   ]
  },
  {
   "cell_type": "code",
   "execution_count": 17,
   "id": "75b5c8c4",
   "metadata": {},
   "outputs": [
    {
     "data": {
      "text/plain": [
       "<matplotlib.legend.Legend at 0x7f969484d4f0>"
      ]
     },
     "execution_count": 17,
     "metadata": {},
     "output_type": "execute_result"
    },
    {
     "data": {
      "image/png": "[encoded data removed]",
      "text/plain": [
       "<Figure size 640x480 with 1 Axes>"
      ]
     },
     "metadata": {},
     "output_type": "display_data"
    }
   ],
   "source": [
    "plt.style.use(\"ggplot\")\n",
    "plt.plot(arange(0,e), H.history[\"loss\"], label=\"train_loss\")\n",
    "plt.plot(arange(0,e), H.history[\"accuracy\"], label=\"train_accuracy\")\n",
    "plt.plot(arange(0,e), H.history[\"val_loss\"], label=\"val_loss\")\n",
    "plt.plot(arange(0,e), H.history[\"val_accuracy\"], label=\"val_accuracy\")\n",
    "plt.xlabel(\"Epochs\")\n",
    "plt.ylabel(\"Accuracy/Loss\")\n",
    "plt.title(\"Training Loss and Accuracy\")\n",
    "plt.legend()"
   ]
  }
 ],
 "metadata": {
  "kernelspec": {
   "display_name": "Python 3 (ipykernel)",
   "language": "python",
   "name": "python3"
  },
  "language_info": {
   "codemirror_mode": {
    "name": "ipython",
    "version": 3
   },
   "file_extension": ".py",
   "mimetype": "text/x-python",
   "name": "python",
   "nbconvert_exporter": "python",
   "pygments_lexer": "ipython3",
   "version": "3.8.10"
  }
 },
 "nbformat": 4,
 "nbformat_minor": 5
}
